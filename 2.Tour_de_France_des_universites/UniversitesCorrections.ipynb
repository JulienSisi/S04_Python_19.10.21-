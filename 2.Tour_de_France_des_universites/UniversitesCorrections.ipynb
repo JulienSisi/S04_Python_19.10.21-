{
 "cells": [
  {
   "cell_type": "markdown",
   "id": "5c2f5d91",
   "metadata": {},
   "source": [
    "# Classement des Universités"
   ]
  },
  {
   "cell_type": "code",
   "execution_count": null,
   "id": "fb5fbcd7",
   "metadata": {},
   "outputs": [],
   "source": [
    "import pandas as pd\n",
    "import numpy as np"
   ]
  },
  {
   "cell_type": "markdown",
   "id": "867fe051",
   "metadata": {},
   "source": [
    "## Fichier : educational_attainment_supplementary_data.csv"
   ]
  },
  {
   "cell_type": "markdown",
   "id": "a0a21624",
   "metadata": {},
   "source": [
    "Familiarisation avec les données : info, describe ..."
   ]
  },
  {
   "cell_type": "code",
   "execution_count": null,
   "id": "55a4bddc",
   "metadata": {},
   "outputs": [],
   "source": [
    "df_eas = pd.read_csv(\"./archive/educational_attainment_supplementary_data.csv\")"
   ]
  },
  {
   "cell_type": "code",
   "execution_count": null,
   "id": "50c0da25",
   "metadata": {},
   "outputs": [],
   "source": [
    "df_eas.info()"
   ]
  },
  {
   "cell_type": "code",
   "execution_count": null,
   "id": "ee89785f",
   "metadata": {},
   "outputs": [],
   "source": [
    "df_eas.describe()"
   ]
  },
  {
   "cell_type": "code",
   "execution_count": null,
   "id": "935ee6d6",
   "metadata": {},
   "outputs": [],
   "source": [
    "df_eas.head(2)"
   ]
  },
  {
   "cell_type": "code",
   "execution_count": null,
   "id": "dffebcc0",
   "metadata": {},
   "outputs": [],
   "source": [
    "df_eas.groupby(['country_name']).count()"
   ]
  },
  {
   "cell_type": "code",
   "execution_count": null,
   "id": "ce4a8ce5",
   "metadata": {},
   "outputs": [],
   "source": [
    "df_eas[df_eas['country_name']=='France']"
   ]
  },
  {
   "cell_type": "markdown",
   "id": "cf3e6792",
   "metadata": {},
   "source": [
    "#### Ce fichier donne le niveau d'éducation de la population par pays (tranche d'age / années d'études) en proportion"
   ]
  },
  {
   "cell_type": "code",
   "execution_count": null,
   "id": "56ba009a",
   "metadata": {},
   "outputs": [],
   "source": []
  },
  {
   "cell_type": "markdown",
   "id": "421c93f5",
   "metadata": {},
   "source": [
    "## Fichier : education_expenditure_supplementary_data.csv"
   ]
  },
  {
   "cell_type": "markdown",
   "id": "27ea16fb",
   "metadata": {},
   "source": [
    "Familiarisation avec les données : info, describe ..."
   ]
  },
  {
   "cell_type": "code",
   "execution_count": null,
   "id": "6aece446",
   "metadata": {},
   "outputs": [],
   "source": [
    "df_ees = pd.read_csv(\"./archive/education_expenditure_supplementary_data.csv\", engine='python')"
   ]
  },
  {
   "cell_type": "code",
   "execution_count": null,
   "id": "3e6e8bea",
   "metadata": {},
   "outputs": [],
   "source": [
    "df_ees.info()"
   ]
  },
  {
   "cell_type": "code",
   "execution_count": null,
   "id": "8e102a28",
   "metadata": {},
   "outputs": [],
   "source": [
    "df_ees.describe().transpose()"
   ]
  },
  {
   "cell_type": "code",
   "execution_count": null,
   "id": "f23d6e77",
   "metadata": {},
   "outputs": [],
   "source": [
    "df_ees.head(2)"
   ]
  },
  {
   "cell_type": "code",
   "execution_count": null,
   "id": "fcc16d4f",
   "metadata": {},
   "outputs": [],
   "source": [
    "df_ees[df_ees['country']=='France']"
   ]
  },
  {
   "cell_type": "markdown",
   "id": "42efafa1",
   "metadata": {},
   "source": [
    "Ce fichier donne la part de la dépense dans l'éducation par pays et par niveau d'institution et par source (public / privé), par rapport au budget domestique"
   ]
  },
  {
   "cell_type": "code",
   "execution_count": null,
   "id": "776c0b77",
   "metadata": {},
   "outputs": [],
   "source": []
  },
  {
   "cell_type": "markdown",
   "id": "41a9736d",
   "metadata": {},
   "source": [
    "## Fichier : school_and_country_table.csv"
   ]
  },
  {
   "cell_type": "code",
   "execution_count": null,
   "id": "a9d5cb34",
   "metadata": {},
   "outputs": [],
   "source": [
    "df_sct = pd.read_csv('./archive/school_and_country_table.csv')"
   ]
  },
  {
   "cell_type": "code",
   "execution_count": null,
   "id": "38ada7b8",
   "metadata": {},
   "outputs": [],
   "source": [
    "df_sct.head(2)"
   ]
  },
  {
   "cell_type": "markdown",
   "id": "26bd4ccf",
   "metadata": {},
   "source": [
    "Ce fichier sert à compléter les données manquantes du timesData.csv"
   ]
  },
  {
   "cell_type": "code",
   "execution_count": null,
   "id": "8472dde6",
   "metadata": {},
   "outputs": [],
   "source": []
  },
  {
   "cell_type": "markdown",
   "id": "f0a249e6",
   "metadata": {},
   "source": [
    "## Fichier : cwurData.csv"
   ]
  },
  {
   "cell_type": "code",
   "execution_count": null,
   "id": "c1fd86f4",
   "metadata": {},
   "outputs": [],
   "source": [
    "df_cd = pd.read_csv(\"./archive/cwurData.csv\")"
   ]
  },
  {
   "cell_type": "code",
   "execution_count": null,
   "id": "5e2d5a2b",
   "metadata": {},
   "outputs": [],
   "source": [
    "df_cd.info()"
   ]
  },
  {
   "cell_type": "code",
   "execution_count": null,
   "id": "ecff0ea9",
   "metadata": {},
   "outputs": [],
   "source": [
    "df_cd.head(2)"
   ]
  },
  {
   "cell_type": "code",
   "execution_count": null,
   "id": "e15ee522",
   "metadata": {},
   "outputs": [],
   "source": [
    "df_cd.tail(2)"
   ]
  },
  {
   "cell_type": "code",
   "execution_count": null,
   "id": "6fbbc414",
   "metadata": {},
   "outputs": [],
   "source": [
    "df_cd.describe().transpose()"
   ]
  },
  {
   "cell_type": "code",
   "execution_count": null,
   "id": "6d260219",
   "metadata": {},
   "outputs": [],
   "source": [
    "df_cd['institution'].value_counts()"
   ]
  },
  {
   "cell_type": "markdown",
   "id": "51766738",
   "metadata": {},
   "source": [
    "Ce fichier liste les universités classées dans le top 1000 entre 2012 et 2015 d'après le classement cwur (Saudi Arabia)"
   ]
  },
  {
   "cell_type": "code",
   "execution_count": null,
   "id": "71f11a8c",
   "metadata": {},
   "outputs": [],
   "source": []
  },
  {
   "cell_type": "markdown",
   "id": "bc69252e",
   "metadata": {},
   "source": [
    "## Fichier : shanghaiData.csv"
   ]
  },
  {
   "cell_type": "code",
   "execution_count": null,
   "id": "a94fdfe6",
   "metadata": {},
   "outputs": [],
   "source": [
    "df_sd = pd.read_csv('./archive/shanghaiData.csv')"
   ]
  },
  {
   "cell_type": "code",
   "execution_count": null,
   "id": "6af787ee",
   "metadata": {},
   "outputs": [],
   "source": [
    "df_sd.info()"
   ]
  },
  {
   "cell_type": "code",
   "execution_count": null,
   "id": "802ebab8",
   "metadata": {},
   "outputs": [],
   "source": [
    "df_sd.describe().transpose()"
   ]
  },
  {
   "cell_type": "code",
   "execution_count": null,
   "id": "3b78744f",
   "metadata": {},
   "outputs": [],
   "source": [
    "df_sd.head(4)"
   ]
  },
  {
   "cell_type": "markdown",
   "id": "189e52ed",
   "metadata": {},
   "source": [
    "Ce fichier est le classement des universités d'après le classement Shanghai entre 2005 et 2015"
   ]
  },
  {
   "cell_type": "code",
   "execution_count": null,
   "id": "c3159f90",
   "metadata": {},
   "outputs": [],
   "source": []
  },
  {
   "cell_type": "markdown",
   "id": "115a45fe",
   "metadata": {},
   "source": [
    "## Fichier timesData.csv"
   ]
  },
  {
   "cell_type": "code",
   "execution_count": null,
   "id": "1041be3f",
   "metadata": {},
   "outputs": [],
   "source": [
    "df_td = pd.read_csv('./archive/timesData.csv')"
   ]
  },
  {
   "cell_type": "code",
   "execution_count": null,
   "id": "cd4893d0",
   "metadata": {},
   "outputs": [],
   "source": [
    "df_td.info()"
   ]
  },
  {
   "cell_type": "code",
   "execution_count": null,
   "id": "9d69619b",
   "metadata": {},
   "outputs": [],
   "source": [
    "df_td.describe().transpose()"
   ]
  },
  {
   "cell_type": "code",
   "execution_count": null,
   "id": "24081cac",
   "metadata": {},
   "outputs": [],
   "source": [
    "df_td.head(4)"
   ]
  },
  {
   "cell_type": "markdown",
   "id": "8e563c55",
   "metadata": {},
   "source": [
    "Ce fichier donne le classement des université d'après le classement THE (UK)"
   ]
  },
  {
   "cell_type": "code",
   "execution_count": null,
   "id": "eae15832",
   "metadata": {},
   "outputs": [],
   "source": [
    "#"
   ]
  },
  {
   "cell_type": "markdown",
   "id": "84644887",
   "metadata": {},
   "source": [
    "# Questions spécifiques"
   ]
  },
  {
   "cell_type": "markdown",
   "id": "6132182a",
   "metadata": {},
   "source": [
    "### Quelles années sont prises en charge par chaque classement ? "
   ]
  },
  {
   "cell_type": "markdown",
   "id": "ef825be1",
   "metadata": {},
   "source": [
    "(voir les describe() plus haut)"
   ]
  },
  {
   "cell_type": "markdown",
   "id": "6a2277c0",
   "metadata": {},
   "source": [
    "cwur : 2012-2015  \n",
    "shanghai : 2005-2015  \n",
    "times : 2011-2015  "
   ]
  },
  {
   "cell_type": "markdown",
   "id": "a1635994",
   "metadata": {},
   "source": [
    "### Combien d'universités sont prises en compte annuellement par chaque classement en moyenne ? Il s'agit ici de donner le nombre moyen d'universités prises en compte par chaque classement lors d'une année."
   ]
  },
  {
   "cell_type": "code",
   "execution_count": null,
   "id": "d819366d",
   "metadata": {},
   "outputs": [],
   "source": [
    "print(\"CWUR:\")\n",
    "for i in range(2012,2016):\n",
    "    count = df_cd[df_cd['year'] == i].groupby('institution').count().shape[0]\n",
    "    print(f'année {i} : {count} universités classées')"
   ]
  },
  {
   "cell_type": "code",
   "execution_count": null,
   "id": "0b1d4426",
   "metadata": {},
   "outputs": [],
   "source": [
    "print(\"shanghai:\")\n",
    "for i in range(2005,2016):\n",
    "    count = df_sd[df_sd['year']== i].groupby('university_name').count().shape[0]\n",
    "    print(f'année {i} : {count} universités classées')"
   ]
  },
  {
   "cell_type": "code",
   "execution_count": null,
   "id": "2114046d",
   "metadata": {},
   "outputs": [],
   "source": [
    "print(\"Times:\")\n",
    "for i in range(2011,2016):\n",
    "    count = df_sd[df_sd['year'] == i].groupby('university_name').count().shape[0]\n",
    "    print(f'année {i} : {count} universités classées')"
   ]
  },
  {
   "cell_type": "code",
   "execution_count": null,
   "id": "d8a01be5",
   "metadata": {},
   "outputs": [],
   "source": [
    "\n",
    "for i in range(2012,2016):\n",
    "    ccount = df_cd[df_cd['year'] == i].groupby('institution').count().shape[0]\n",
    "    tcount = df_td[df_td['year'] == i].groupby('university_name').count().shape[0]\n",
    "    scount = df_sd[df_sd['year']== i].groupby('university_name').count().shape[0]\n",
    "    print(f'année {i} : {round((ccount + tcount + scount) / 3)} universités classées en moyenne')"
   ]
  },
  {
   "cell_type": "markdown",
   "id": "b00b46fa",
   "metadata": {},
   "source": [
    " ### Quels sont les rankings obtenus par l'Université de Strabsourg dans chacun des 3 classements disponibles ?"
   ]
  },
  {
   "cell_type": "code",
   "execution_count": null,
   "id": "ebff097f",
   "metadata": {},
   "outputs": [],
   "source": [
    "print(\"Strasbourg CWUR:\")\n",
    "df_cd[df_cd['institution'].str.contains(\"Strasbourg\")][['institution','year','world_rank']]"
   ]
  },
  {
   "cell_type": "code",
   "execution_count": null,
   "id": "6aeb6e01",
   "metadata": {},
   "outputs": [],
   "source": [
    "print(\"Strasbourg Shanghai:\")\n",
    "sd_nona = df_sd[df_sd['university_name'].isna()==False]\n",
    "sd_nona[sd_nona['university_name'].str.contains('Strasbourg')][['university_name','year', 'world_rank']]"
   ]
  },
  {
   "cell_type": "code",
   "execution_count": null,
   "id": "276bfaed",
   "metadata": {},
   "outputs": [],
   "source": [
    "print(\"Strasbourg Times:\")\n",
    "df_td[df_td['university_name'].str.contains(\"Strasbourg\")][['university_name','year','world_rank']]"
   ]
  },
  {
   "cell_type": "code",
   "execution_count": null,
   "id": "29ae5d22",
   "metadata": {},
   "outputs": [],
   "source": []
  },
  {
   "cell_type": "markdown",
   "id": "2b09af07",
   "metadata": {},
   "source": [
    " ### Selon le classement du Times, quels sont les 20 meilleures universités en 2016 ? Quelle est la part d'universités américaines ?"
   ]
  },
  {
   "cell_type": "code",
   "execution_count": null,
   "id": "8e2377f2",
   "metadata": {},
   "outputs": [],
   "source": [
    "top_20 = df_td[df_td['year'] == 2016].head(20)\n",
    "top_20"
   ]
  },
  {
   "cell_type": "code",
   "execution_count": null,
   "id": "c07ef22e",
   "metadata": {},
   "outputs": [],
   "source": [
    "top_20.groupby('country').count().sort_values('world_rank', ascending = False)['world_rank']"
   ]
  },
  {
   "cell_type": "markdown",
   "id": "9a05db3c",
   "metadata": {},
   "source": [
    "14 universités américaines dans le top 20 de 2016"
   ]
  },
  {
   "cell_type": "code",
   "execution_count": null,
   "id": "aa632f24",
   "metadata": {},
   "outputs": [],
   "source": []
  },
  {
   "cell_type": "markdown",
   "id": "f4d32e58",
   "metadata": {},
   "source": [
    "### Combien chaque pays possède d'universités dans le classement de Shanghai en 2015 ? Range la liste par ordre décroissant. Pense à t'aider de la table université - pays pour réaliser cette requête."
   ]
  },
  {
   "cell_type": "markdown",
   "id": "372b7f6e",
   "metadata": {},
   "source": []
  },
  {
   "cell_type": "code",
   "execution_count": null,
   "id": "c0d0b636",
   "metadata": {},
   "outputs": [],
   "source": []
  },
  {
   "cell_type": "code",
   "execution_count": null,
   "id": "01193cd7",
   "metadata": {},
   "outputs": [],
   "source": [
    "df_sct.head(2)"
   ]
  },
  {
   "cell_type": "code",
   "execution_count": null,
   "id": "42bb795d",
   "metadata": {},
   "outputs": [],
   "source": [
    "df_sd_complete = df_sd.set_index('university_name').join(df_sct.set_index('school_name'))"
   ]
  },
  {
   "cell_type": "code",
   "execution_count": null,
   "id": "ac47daa7",
   "metadata": {},
   "outputs": [],
   "source": [
    "df_sd_complete[df_sd_complete['year'] == 2015].groupby('country').count().sort_values(by='year', ascending=False)['year']"
   ]
  },
  {
   "cell_type": "code",
   "execution_count": null,
   "id": "62e9b27f",
   "metadata": {},
   "outputs": [],
   "source": []
  },
  {
   "cell_type": "markdown",
   "id": "87d1fd55",
   "metadata": {},
   "source": [
    "### Quelles sont les universités françaises présentes dans le classement du Center for WUR ?"
   ]
  },
  {
   "cell_type": "code",
   "execution_count": null,
   "id": "2032c81f",
   "metadata": {},
   "outputs": [],
   "source": [
    "df_cd[df_cd['country']=='France'].groupby('institution').count().index.tolist()"
   ]
  },
  {
   "cell_type": "markdown",
   "id": "0f36ea06",
   "metadata": {},
   "source": [
    "### Quels pays ont les plus faibles ratios (Dépenses dans les Institutions du Supérieur (Privées et Publiques) en 2011) / Nombre d'universités dans le classement du Times en 2011 ? Range cette liste par ordre croissant."
   ]
  },
  {
   "cell_type": "markdown",
   "id": "d11c7680",
   "metadata": {},
   "source": [
    "récupérons le classement et dépouillons le des infos qui ne sont pas pertinentes.  \n",
    "nous garderons seulement le compte par pays pour l'année 2011"
   ]
  },
  {
   "cell_type": "code",
   "execution_count": null,
   "id": "ef81ffe9",
   "metadata": {},
   "outputs": [],
   "source": [
    "countries_2011 = (df_td[df_td['year']==2011].groupby('country').count())\n",
    "countries_2011['count'] = countries_2011['world_rank']\n",
    "c_2011 = pd.DataFrame(countries_2011['count'])\n",
    "c_2011"
   ]
  },
  {
   "cell_type": "markdown",
   "id": "dd04a5bc",
   "metadata": {},
   "source": [
    "Pareillement, gardons les seules data qui nous nous intéressent pour les dépenses.  \n",
    "nous gardon les dépenses par pays pour l'année 2011 correspondant à l'éducation supérieure, privée et publique"
   ]
  },
  {
   "cell_type": "code",
   "execution_count": null,
   "id": "bdf817ac",
   "metadata": {},
   "outputs": [],
   "source": [
    "ees_2011 = df_ees[df_ees['institute_type'].str.startswith('Higher')][['country', '2011', 'direct_expenditure_type']]\n",
    "ees_2011 = ees_2011[ees_2011['direct_expenditure_type'] == 'Total']\n",
    "ees_2011 = ees_2011.set_index('country')\n",
    "ees_2011.drop('direct_expenditure_type', axis=1, inplace=True)\n",
    "ees_2011"
   ]
  },
  {
   "cell_type": "markdown",
   "id": "306d4653",
   "metadata": {},
   "source": [
    "les noms des pays ne correspondent pas totalement entre le classement et les dépenses et certains sont manquant  \n",
    "Nous allons en normaliser quelques uns "
   ]
  },
  {
   "cell_type": "code",
   "execution_count": null,
   "id": "a08d7d17",
   "metadata": {},
   "outputs": [],
   "source": [
    "c_2011.index.to_list()"
   ]
  },
  {
   "cell_type": "code",
   "execution_count": null,
   "id": "e5862ccb",
   "metadata": {},
   "outputs": [],
   "source": [
    "ees_2011.index.to_list()"
   ]
  },
  {
   "cell_type": "code",
   "execution_count": null,
   "id": "56a3be3d",
   "metadata": {},
   "outputs": [],
   "source": [
    "ees_2011.rename(index={'Ireland' : 'Republic of Ireland', 'United States' : 'United States of America'}, inplace = True)"
   ]
  },
  {
   "cell_type": "code",
   "execution_count": null,
   "id": "384978b9",
   "metadata": {},
   "outputs": [],
   "source": []
  },
  {
   "cell_type": "code",
   "execution_count": null,
   "id": "36f58bdd",
   "metadata": {},
   "outputs": [],
   "source": [
    "result = pd.merge(c_2011, ees_2011, left_index=True, right_index=True)\n",
    "result['ratio'] = result['2011']/result['count']\n",
    "result.sort_values(by='ratio', ascending=True)"
   ]
  },
  {
   "cell_type": "code",
   "execution_count": null,
   "id": "ba430514",
   "metadata": {},
   "outputs": [],
   "source": [
    "c_2011.shape[0]"
   ]
  },
  {
   "cell_type": "code",
   "execution_count": null,
   "id": "dd0c7a68",
   "metadata": {},
   "outputs": [],
   "source": [
    "result.shape[0]"
   ]
  },
  {
   "cell_type": "markdown",
   "id": "069a7bad",
   "metadata": {},
   "source": [
    "il manque encore 7 entrées qui ne sont pas présentes dans les expenditures"
   ]
  },
  {
   "cell_type": "markdown",
   "id": "068debcc",
   "metadata": {},
   "source": [
    "### Trouver des informations intéressantes"
   ]
  },
  {
   "cell_type": "markdown",
   "id": "6da7b0d7",
   "metadata": {},
   "source": [
    "1) Nous pouvons étudier si les universités qui ont augmenté la part des dépenses dans l'éducation ont aussi amélioré leur classement, et dans quelle proportion"
   ]
  },
  {
   "cell_type": "code",
   "execution_count": 403,
   "id": "5a56621a",
   "metadata": {},
   "outputs": [],
   "source": [
    "df_inc = df_ees[df_ees['institute_type'].str.startswith('Higher')].groupby('country').mean()"
   ]
  },
  {
   "cell_type": "code",
   "execution_count": 411,
   "id": "51195383",
   "metadata": {},
   "outputs": [
    {
     "data": {
      "text/plain": [
       "['Australia',\n",
       " 'Chile',\n",
       " 'Hungary',\n",
       " 'Israel',\n",
       " 'Japan',\n",
       " 'Korea, Republic of',\n",
       " 'United Kingdom',\n",
       " 'United States']"
      ]
     },
     "execution_count": 411,
     "metadata": {},
     "output_type": "execute_result"
    }
   ],
   "source": [
    "lst = df_inc[df_inc['2011'] > df_inc['2010']].index.to_list()\n",
    "lst"
   ]
  },
  {
   "cell_type": "markdown",
   "id": "369d2d77",
   "metadata": {},
   "source": [
    "Ceci est la list des pays qui ont amélioré la part de dépense dans l'éducation pour l'enseignement supérieur entre 2010 et 2011"
   ]
  },
  {
   "cell_type": "code",
   "execution_count": 427,
   "id": "2bffc511",
   "metadata": {},
   "outputs": [
    {
     "data": {
      "text/html": [
       "<div>\n",
       "<style scoped>\n",
       "    .dataframe tbody tr th:only-of-type {\n",
       "        vertical-align: middle;\n",
       "    }\n",
       "\n",
       "    .dataframe tbody tr th {\n",
       "        vertical-align: top;\n",
       "    }\n",
       "\n",
       "    .dataframe thead th {\n",
       "        text-align: right;\n",
       "    }\n",
       "</style>\n",
       "<table border=\"1\" class=\"dataframe\">\n",
       "  <thead>\n",
       "    <tr style=\"text-align: right;\">\n",
       "      <th></th>\n",
       "      <th>world_rank</th>\n",
       "      <th>university_name</th>\n",
       "      <th>country</th>\n",
       "      <th>teaching</th>\n",
       "      <th>international</th>\n",
       "      <th>research</th>\n",
       "      <th>citations</th>\n",
       "      <th>income</th>\n",
       "      <th>total_score</th>\n",
       "      <th>num_students</th>\n",
       "      <th>student_staff_ratio</th>\n",
       "      <th>international_students</th>\n",
       "      <th>female_male_ratio</th>\n",
       "      <th>year</th>\n",
       "    </tr>\n",
       "  </thead>\n",
       "  <tbody>\n",
       "    <tr>\n",
       "      <th>5</th>\n",
       "      <td>6</td>\n",
       "      <td>University of Cambridge</td>\n",
       "      <td>United Kingdom</td>\n",
       "      <td>90.5</td>\n",
       "      <td>77.7</td>\n",
       "      <td>94.1</td>\n",
       "      <td>94.0</td>\n",
       "      <td>57.0</td>\n",
       "      <td>91.2</td>\n",
       "      <td>18,812</td>\n",
       "      <td>11.8</td>\n",
       "      <td>34%</td>\n",
       "      <td>46 : 54</td>\n",
       "      <td>2011</td>\n",
       "    </tr>\n",
       "    <tr>\n",
       "      <th>6</th>\n",
       "      <td>6</td>\n",
       "      <td>University of Oxford</td>\n",
       "      <td>United Kingdom</td>\n",
       "      <td>88.2</td>\n",
       "      <td>77.2</td>\n",
       "      <td>93.9</td>\n",
       "      <td>95.1</td>\n",
       "      <td>73.5</td>\n",
       "      <td>91.2</td>\n",
       "      <td>19,919</td>\n",
       "      <td>11.6</td>\n",
       "      <td>34%</td>\n",
       "      <td>46 : 54</td>\n",
       "      <td>2011</td>\n",
       "    </tr>\n",
       "    <tr>\n",
       "      <th>8</th>\n",
       "      <td>9</td>\n",
       "      <td>Imperial College London</td>\n",
       "      <td>United Kingdom</td>\n",
       "      <td>89.2</td>\n",
       "      <td>90.0</td>\n",
       "      <td>94.5</td>\n",
       "      <td>88.3</td>\n",
       "      <td>92.9</td>\n",
       "      <td>90.6</td>\n",
       "      <td>15,060</td>\n",
       "      <td>11.7</td>\n",
       "      <td>51%</td>\n",
       "      <td>37 : 63</td>\n",
       "      <td>2011</td>\n",
       "    </tr>\n",
       "    <tr>\n",
       "      <th>21</th>\n",
       "      <td>22</td>\n",
       "      <td>University College London</td>\n",
       "      <td>United Kingdom</td>\n",
       "      <td>74.0</td>\n",
       "      <td>90.8</td>\n",
       "      <td>81.6</td>\n",
       "      <td>80.6</td>\n",
       "      <td>39.0</td>\n",
       "      <td>78.4</td>\n",
       "      <td>26,607</td>\n",
       "      <td>10.7</td>\n",
       "      <td>46%</td>\n",
       "      <td>56 : 44</td>\n",
       "      <td>2011</td>\n",
       "    </tr>\n",
       "    <tr>\n",
       "      <th>25</th>\n",
       "      <td>26</td>\n",
       "      <td>University of Tokyo</td>\n",
       "      <td>Japan</td>\n",
       "      <td>87.7</td>\n",
       "      <td>18.4</td>\n",
       "      <td>91.9</td>\n",
       "      <td>58.1</td>\n",
       "      <td>-</td>\n",
       "      <td>75.6</td>\n",
       "      <td>26,199</td>\n",
       "      <td>5.7</td>\n",
       "      <td>10%</td>\n",
       "      <td>NaN</td>\n",
       "      <td>2011</td>\n",
       "    </tr>\n",
       "    <tr>\n",
       "      <th>...</th>\n",
       "      <td>...</td>\n",
       "      <td>...</td>\n",
       "      <td>...</td>\n",
       "      <td>...</td>\n",
       "      <td>...</td>\n",
       "      <td>...</td>\n",
       "      <td>...</td>\n",
       "      <td>...</td>\n",
       "      <td>...</td>\n",
       "      <td>...</td>\n",
       "      <td>...</td>\n",
       "      <td>...</td>\n",
       "      <td>...</td>\n",
       "      <td>...</td>\n",
       "    </tr>\n",
       "    <tr>\n",
       "      <th>2592</th>\n",
       "      <td>601-800</td>\n",
       "      <td>Waseda University</td>\n",
       "      <td>Japan</td>\n",
       "      <td>23.6</td>\n",
       "      <td>29.7</td>\n",
       "      <td>14.6</td>\n",
       "      <td>29.4</td>\n",
       "      <td>32.4</td>\n",
       "      <td>-</td>\n",
       "      <td>52,316</td>\n",
       "      <td>16.9</td>\n",
       "      <td>8%</td>\n",
       "      <td>35 : 65</td>\n",
       "      <td>2016</td>\n",
       "    </tr>\n",
       "    <tr>\n",
       "      <th>2594</th>\n",
       "      <td>601-800</td>\n",
       "      <td>University of the West of England</td>\n",
       "      <td>United Kingdom</td>\n",
       "      <td>16.9</td>\n",
       "      <td>48.5</td>\n",
       "      <td>11.2</td>\n",
       "      <td>34.6</td>\n",
       "      <td>28.5</td>\n",
       "      <td>-</td>\n",
       "      <td>22,525</td>\n",
       "      <td>21.4</td>\n",
       "      <td>15%</td>\n",
       "      <td>53 : 47</td>\n",
       "      <td>2016</td>\n",
       "    </tr>\n",
       "    <tr>\n",
       "      <th>2596</th>\n",
       "      <td>601-800</td>\n",
       "      <td>University of Westminster</td>\n",
       "      <td>United Kingdom</td>\n",
       "      <td>17.3</td>\n",
       "      <td>81.9</td>\n",
       "      <td>11.7</td>\n",
       "      <td>21.1</td>\n",
       "      <td>28.5</td>\n",
       "      <td>-</td>\n",
       "      <td>16,609</td>\n",
       "      <td>21.0</td>\n",
       "      <td>43%</td>\n",
       "      <td>57 : 43</td>\n",
       "      <td>2016</td>\n",
       "    </tr>\n",
       "    <tr>\n",
       "      <th>2600</th>\n",
       "      <td>601-800</td>\n",
       "      <td>Yokohama City University</td>\n",
       "      <td>Japan</td>\n",
       "      <td>24.0</td>\n",
       "      <td>16.1</td>\n",
       "      <td>10.2</td>\n",
       "      <td>36.4</td>\n",
       "      <td>37.9</td>\n",
       "      <td>-</td>\n",
       "      <td>4,122</td>\n",
       "      <td>3.7</td>\n",
       "      <td>3%</td>\n",
       "      <td>NaN</td>\n",
       "      <td>2016</td>\n",
       "    </tr>\n",
       "    <tr>\n",
       "      <th>2601</th>\n",
       "      <td>601-800</td>\n",
       "      <td>Yokohama National University</td>\n",
       "      <td>Japan</td>\n",
       "      <td>20.1</td>\n",
       "      <td>23.3</td>\n",
       "      <td>16.0</td>\n",
       "      <td>13.5</td>\n",
       "      <td>40.4</td>\n",
       "      <td>-</td>\n",
       "      <td>10,117</td>\n",
       "      <td>12.1</td>\n",
       "      <td>8%</td>\n",
       "      <td>28 : 72</td>\n",
       "      <td>2016</td>\n",
       "    </tr>\n",
       "  </tbody>\n",
       "</table>\n",
       "<p>548 rows × 14 columns</p>\n",
       "</div>"
      ],
      "text/plain": [
       "     world_rank                    university_name         country  teaching  \\\n",
       "5             6            University of Cambridge  United Kingdom      90.5   \n",
       "6             6               University of Oxford  United Kingdom      88.2   \n",
       "8             9            Imperial College London  United Kingdom      89.2   \n",
       "21           22          University College London  United Kingdom      74.0   \n",
       "25           26                University of Tokyo           Japan      87.7   \n",
       "...         ...                                ...             ...       ...   \n",
       "2592    601-800                  Waseda University           Japan      23.6   \n",
       "2594    601-800  University of the West of England  United Kingdom      16.9   \n",
       "2596    601-800          University of Westminster  United Kingdom      17.3   \n",
       "2600    601-800           Yokohama City University           Japan      24.0   \n",
       "2601    601-800       Yokohama National University           Japan      20.1   \n",
       "\n",
       "     international  research  citations income total_score num_students  \\\n",
       "5             77.7      94.1       94.0   57.0        91.2       18,812   \n",
       "6             77.2      93.9       95.1   73.5        91.2       19,919   \n",
       "8             90.0      94.5       88.3   92.9        90.6       15,060   \n",
       "21            90.8      81.6       80.6   39.0        78.4       26,607   \n",
       "25            18.4      91.9       58.1      -        75.6       26,199   \n",
       "...            ...       ...        ...    ...         ...          ...   \n",
       "2592          29.7      14.6       29.4   32.4           -       52,316   \n",
       "2594          48.5      11.2       34.6   28.5           -       22,525   \n",
       "2596          81.9      11.7       21.1   28.5           -       16,609   \n",
       "2600          16.1      10.2       36.4   37.9           -        4,122   \n",
       "2601          23.3      16.0       13.5   40.4           -       10,117   \n",
       "\n",
       "      student_staff_ratio international_students female_male_ratio  year  \n",
       "5                    11.8                    34%           46 : 54  2011  \n",
       "6                    11.6                    34%           46 : 54  2011  \n",
       "8                    11.7                    51%           37 : 63  2011  \n",
       "21                   10.7                    46%           56 : 44  2011  \n",
       "25                    5.7                    10%               NaN  2011  \n",
       "...                   ...                    ...               ...   ...  \n",
       "2592                 16.9                     8%           35 : 65  2016  \n",
       "2594                 21.4                    15%           53 : 47  2016  \n",
       "2596                 21.0                    43%           57 : 43  2016  \n",
       "2600                  3.7                     3%               NaN  2016  \n",
       "2601                 12.1                     8%           28 : 72  2016  \n",
       "\n",
       "[548 rows x 14 columns]"
      ]
     },
     "execution_count": 427,
     "metadata": {},
     "output_type": "execute_result"
    }
   ],
   "source": [
    "df_td.query('country in @lst')"
   ]
  },
  {
   "cell_type": "code",
   "execution_count": null,
   "id": "5eff414a",
   "metadata": {},
   "outputs": [],
   "source": []
  },
  {
   "cell_type": "code",
   "execution_count": null,
   "id": "48b62984",
   "metadata": {},
   "outputs": [],
   "source": []
  }
 ],
 "metadata": {
  "kernelspec": {
   "display_name": "Python 3",
   "language": "python",
   "name": "python3"
  },
  "language_info": {
   "codemirror_mode": {
    "name": "ipython",
    "version": 3
   },
   "file_extension": ".py",
   "mimetype": "text/x-python",
   "name": "python",
   "nbconvert_exporter": "python",
   "pygments_lexer": "ipython3",
   "version": "3.8.8"
  }
 },
 "nbformat": 4,
 "nbformat_minor": 5
}
