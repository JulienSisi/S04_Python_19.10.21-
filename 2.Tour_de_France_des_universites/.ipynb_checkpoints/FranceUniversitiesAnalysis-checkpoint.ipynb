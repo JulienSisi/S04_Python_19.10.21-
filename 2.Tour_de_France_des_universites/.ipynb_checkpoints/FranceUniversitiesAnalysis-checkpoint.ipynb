{
 "cells": [
  {
   "cell_type": "code",
   "execution_count": null,
   "id": "6cebb690",
   "metadata": {},
   "outputs": [],
   "source": [
    "# 2.0. Set up Librairies"
   ]
  },
  {
   "cell_type": "code",
   "execution_count": 2,
   "id": "1ffec70d",
   "metadata": {},
   "outputs": [],
   "source": [
    "import numpy as np\n",
    "import pandas as pd"
   ]
  },
  {
   "cell_type": "code",
   "execution_count": null,
   "id": "1507e3b1",
   "metadata": {},
   "outputs": [],
   "source": [
    "# 2.1. Télécharger le fichier csv et l'ouvrir sur ton notebook"
   ]
  },
  {
   "cell_type": "code",
   "execution_count": 3,
   "id": "dfe6623b",
   "metadata": {},
   "outputs": [],
   "source": [
    " cwurData = pd.read_csv('/Users/juliensisavath2017/THP_loc/THP-2/S04/2/Project/2.Tour_de_France_des_universites/archive/cwurData.csv', sep = \";\", encoding = 'latin-1')\n"
   ]
  },
  {
   "cell_type": "code",
   "execution_count": 10,
   "id": "a3172ca4",
   "metadata": {},
   "outputs": [
    {
     "ename": "ParserError",
     "evalue": "Error tokenizing data. C error: Buffer overflow caught - possible malformed input file.\n",
     "output_type": "error",
     "traceback": [
      "\u001b[0;31m---------------------------------------------------------------------------\u001b[0m",
      "\u001b[0;31mParserError\u001b[0m                               Traceback (most recent call last)",
      "\u001b[0;32m<ipython-input-10-d4ab62e15a05>\u001b[0m in \u001b[0;36m<module>\u001b[0;34m\u001b[0m\n\u001b[0;32m----> 1\u001b[0;31m \u001b[0mexpenditure\u001b[0m \u001b[0;34m=\u001b[0m \u001b[0mpd\u001b[0m\u001b[0;34m.\u001b[0m\u001b[0mread_csv\u001b[0m\u001b[0;34m(\u001b[0m\u001b[0;34m'/Users/juliensisavath2017/THP_loc/THP-2/S04/2/Project/2.Tour_de_France_des_universites/archive/education_expenditure_supplementary_data.csv'\u001b[0m\u001b[0;34m,\u001b[0m \u001b[0mencoding\u001b[0m \u001b[0;34m=\u001b[0m \u001b[0;34m'latin-1'\u001b[0m\u001b[0;34m)\u001b[0m\u001b[0;34m\u001b[0m\u001b[0;34m\u001b[0m\u001b[0m\n\u001b[0m",
      "\u001b[0;32m~/opt/anaconda3/lib/python3.8/site-packages/pandas/io/parsers.py\u001b[0m in \u001b[0;36mread_csv\u001b[0;34m(filepath_or_buffer, sep, delimiter, header, names, index_col, usecols, squeeze, prefix, mangle_dupe_cols, dtype, engine, converters, true_values, false_values, skipinitialspace, skiprows, skipfooter, nrows, na_values, keep_default_na, na_filter, verbose, skip_blank_lines, parse_dates, infer_datetime_format, keep_date_col, date_parser, dayfirst, cache_dates, iterator, chunksize, compression, thousands, decimal, lineterminator, quotechar, quoting, doublequote, escapechar, comment, encoding, dialect, error_bad_lines, warn_bad_lines, delim_whitespace, low_memory, memory_map, float_precision, storage_options)\u001b[0m\n\u001b[1;32m    608\u001b[0m     \u001b[0mkwds\u001b[0m\u001b[0;34m.\u001b[0m\u001b[0mupdate\u001b[0m\u001b[0;34m(\u001b[0m\u001b[0mkwds_defaults\u001b[0m\u001b[0;34m)\u001b[0m\u001b[0;34m\u001b[0m\u001b[0;34m\u001b[0m\u001b[0m\n\u001b[1;32m    609\u001b[0m \u001b[0;34m\u001b[0m\u001b[0m\n\u001b[0;32m--> 610\u001b[0;31m     \u001b[0;32mreturn\u001b[0m \u001b[0m_read\u001b[0m\u001b[0;34m(\u001b[0m\u001b[0mfilepath_or_buffer\u001b[0m\u001b[0;34m,\u001b[0m \u001b[0mkwds\u001b[0m\u001b[0;34m)\u001b[0m\u001b[0;34m\u001b[0m\u001b[0;34m\u001b[0m\u001b[0m\n\u001b[0m\u001b[1;32m    611\u001b[0m \u001b[0;34m\u001b[0m\u001b[0m\n\u001b[1;32m    612\u001b[0m \u001b[0;34m\u001b[0m\u001b[0m\n",
      "\u001b[0;32m~/opt/anaconda3/lib/python3.8/site-packages/pandas/io/parsers.py\u001b[0m in \u001b[0;36m_read\u001b[0;34m(filepath_or_buffer, kwds)\u001b[0m\n\u001b[1;32m    466\u001b[0m \u001b[0;34m\u001b[0m\u001b[0m\n\u001b[1;32m    467\u001b[0m     \u001b[0;32mwith\u001b[0m \u001b[0mparser\u001b[0m\u001b[0;34m:\u001b[0m\u001b[0;34m\u001b[0m\u001b[0;34m\u001b[0m\u001b[0m\n\u001b[0;32m--> 468\u001b[0;31m         \u001b[0;32mreturn\u001b[0m \u001b[0mparser\u001b[0m\u001b[0;34m.\u001b[0m\u001b[0mread\u001b[0m\u001b[0;34m(\u001b[0m\u001b[0mnrows\u001b[0m\u001b[0;34m)\u001b[0m\u001b[0;34m\u001b[0m\u001b[0;34m\u001b[0m\u001b[0m\n\u001b[0m\u001b[1;32m    469\u001b[0m \u001b[0;34m\u001b[0m\u001b[0m\n\u001b[1;32m    470\u001b[0m \u001b[0;34m\u001b[0m\u001b[0m\n",
      "\u001b[0;32m~/opt/anaconda3/lib/python3.8/site-packages/pandas/io/parsers.py\u001b[0m in \u001b[0;36mread\u001b[0;34m(self, nrows)\u001b[0m\n\u001b[1;32m   1055\u001b[0m     \u001b[0;32mdef\u001b[0m \u001b[0mread\u001b[0m\u001b[0;34m(\u001b[0m\u001b[0mself\u001b[0m\u001b[0;34m,\u001b[0m \u001b[0mnrows\u001b[0m\u001b[0;34m=\u001b[0m\u001b[0;32mNone\u001b[0m\u001b[0;34m)\u001b[0m\u001b[0;34m:\u001b[0m\u001b[0;34m\u001b[0m\u001b[0;34m\u001b[0m\u001b[0m\n\u001b[1;32m   1056\u001b[0m         \u001b[0mnrows\u001b[0m \u001b[0;34m=\u001b[0m \u001b[0mvalidate_integer\u001b[0m\u001b[0;34m(\u001b[0m\u001b[0;34m\"nrows\"\u001b[0m\u001b[0;34m,\u001b[0m \u001b[0mnrows\u001b[0m\u001b[0;34m)\u001b[0m\u001b[0;34m\u001b[0m\u001b[0;34m\u001b[0m\u001b[0m\n\u001b[0;32m-> 1057\u001b[0;31m         \u001b[0mindex\u001b[0m\u001b[0;34m,\u001b[0m \u001b[0mcolumns\u001b[0m\u001b[0;34m,\u001b[0m \u001b[0mcol_dict\u001b[0m \u001b[0;34m=\u001b[0m \u001b[0mself\u001b[0m\u001b[0;34m.\u001b[0m\u001b[0m_engine\u001b[0m\u001b[0;34m.\u001b[0m\u001b[0mread\u001b[0m\u001b[0;34m(\u001b[0m\u001b[0mnrows\u001b[0m\u001b[0;34m)\u001b[0m\u001b[0;34m\u001b[0m\u001b[0;34m\u001b[0m\u001b[0m\n\u001b[0m\u001b[1;32m   1058\u001b[0m \u001b[0;34m\u001b[0m\u001b[0m\n\u001b[1;32m   1059\u001b[0m         \u001b[0;32mif\u001b[0m \u001b[0mindex\u001b[0m \u001b[0;32mis\u001b[0m \u001b[0;32mNone\u001b[0m\u001b[0;34m:\u001b[0m\u001b[0;34m\u001b[0m\u001b[0;34m\u001b[0m\u001b[0m\n",
      "\u001b[0;32m~/opt/anaconda3/lib/python3.8/site-packages/pandas/io/parsers.py\u001b[0m in \u001b[0;36mread\u001b[0;34m(self, nrows)\u001b[0m\n\u001b[1;32m   2059\u001b[0m     \u001b[0;32mdef\u001b[0m \u001b[0mread\u001b[0m\u001b[0;34m(\u001b[0m\u001b[0mself\u001b[0m\u001b[0;34m,\u001b[0m \u001b[0mnrows\u001b[0m\u001b[0;34m=\u001b[0m\u001b[0;32mNone\u001b[0m\u001b[0;34m)\u001b[0m\u001b[0;34m:\u001b[0m\u001b[0;34m\u001b[0m\u001b[0;34m\u001b[0m\u001b[0m\n\u001b[1;32m   2060\u001b[0m         \u001b[0;32mtry\u001b[0m\u001b[0;34m:\u001b[0m\u001b[0;34m\u001b[0m\u001b[0;34m\u001b[0m\u001b[0m\n\u001b[0;32m-> 2061\u001b[0;31m             \u001b[0mdata\u001b[0m \u001b[0;34m=\u001b[0m \u001b[0mself\u001b[0m\u001b[0;34m.\u001b[0m\u001b[0m_reader\u001b[0m\u001b[0;34m.\u001b[0m\u001b[0mread\u001b[0m\u001b[0;34m(\u001b[0m\u001b[0mnrows\u001b[0m\u001b[0;34m)\u001b[0m\u001b[0;34m\u001b[0m\u001b[0;34m\u001b[0m\u001b[0m\n\u001b[0m\u001b[1;32m   2062\u001b[0m         \u001b[0;32mexcept\u001b[0m \u001b[0mStopIteration\u001b[0m\u001b[0;34m:\u001b[0m\u001b[0;34m\u001b[0m\u001b[0;34m\u001b[0m\u001b[0m\n\u001b[1;32m   2063\u001b[0m             \u001b[0;32mif\u001b[0m \u001b[0mself\u001b[0m\u001b[0;34m.\u001b[0m\u001b[0m_first_chunk\u001b[0m\u001b[0;34m:\u001b[0m\u001b[0;34m\u001b[0m\u001b[0;34m\u001b[0m\u001b[0m\n",
      "\u001b[0;32m~/opt/anaconda3/lib/python3.8/site-packages/pandas-1.3.3-py3.8-macosx-10.9-x86_64.egg/pandas/_libs/parsers.pyx\u001b[0m in \u001b[0;36mpandas._libs.parsers.TextReader.read\u001b[0;34m()\u001b[0m\n",
      "\u001b[0;32m~/opt/anaconda3/lib/python3.8/site-packages/pandas-1.3.3-py3.8-macosx-10.9-x86_64.egg/pandas/_libs/parsers.pyx\u001b[0m in \u001b[0;36mpandas._libs.parsers.TextReader._read_low_memory\u001b[0;34m()\u001b[0m\n",
      "\u001b[0;32m~/opt/anaconda3/lib/python3.8/site-packages/pandas-1.3.3-py3.8-macosx-10.9-x86_64.egg/pandas/_libs/parsers.pyx\u001b[0m in \u001b[0;36mpandas._libs.parsers.TextReader._read_rows\u001b[0;34m()\u001b[0m\n",
      "\u001b[0;32m~/opt/anaconda3/lib/python3.8/site-packages/pandas-1.3.3-py3.8-macosx-10.9-x86_64.egg/pandas/_libs/parsers.pyx\u001b[0m in \u001b[0;36mpandas._libs.parsers.TextReader._tokenize_rows\u001b[0;34m()\u001b[0m\n",
      "\u001b[0;32m~/opt/anaconda3/lib/python3.8/site-packages/pandas-1.3.3-py3.8-macosx-10.9-x86_64.egg/pandas/_libs/parsers.pyx\u001b[0m in \u001b[0;36mpandas._libs.parsers.raise_parser_error\u001b[0;34m()\u001b[0m\n",
      "\u001b[0;31mParserError\u001b[0m: Error tokenizing data. C error: Buffer overflow caught - possible malformed input file.\n"
     ]
    }
   ],
   "source": [
    " expenditure = pd.read_csv('/Users/juliensisavath2017/THP_loc/THP-2/S04/2/Project/2.Tour_de_France_des_universites/archive/education_expenditure_supplementary_data.csv', encoding = 'latin-1')\n"
   ]
  },
  {
   "cell_type": "code",
   "execution_count": 5,
   "id": "cb6beb21",
   "metadata": {},
   "outputs": [],
   "source": [
    " attainment = pd.read_csv('/Users/juliensisavath2017/THP_loc/THP-2/S04/2/Project/2.Tour_de_France_des_universites/archive/educational_attainment_supplementary_data.csv', sep = \";\", encoding = 'latin-1')\n"
   ]
  },
  {
   "cell_type": "code",
   "execution_count": 6,
   "id": "2889e158",
   "metadata": {},
   "outputs": [],
   "source": [
    " school = pd.read_csv('/Users/juliensisavath2017/THP_loc/THP-2/S04/2/Project/2.Tour_de_France_des_universites/archive/school_and_country_table.csv', sep = \";\", encoding = 'latin-1')\n"
   ]
  },
  {
   "cell_type": "code",
   "execution_count": 7,
   "id": "ae634f34",
   "metadata": {},
   "outputs": [],
   "source": [
    " shanghaiData = pd.read_csv('/Users/juliensisavath2017/THP_loc/THP-2/S04/2/Project/2.Tour_de_France_des_universites/archive/shanghaiData.csv', sep = \";\", encoding = 'latin-1')\n"
   ]
  },
  {
   "cell_type": "code",
   "execution_count": 1,
   "id": "a6fc6fb7",
   "metadata": {},
   "outputs": [
    {
     "ename": "NameError",
     "evalue": "name 'pd' is not defined",
     "output_type": "error",
     "traceback": [
      "\u001b[0;31m---------------------------------------------------------------------------\u001b[0m",
      "\u001b[0;31mNameError\u001b[0m                                 Traceback (most recent call last)",
      "\u001b[0;32m<ipython-input-1-ed386b028a6c>\u001b[0m in \u001b[0;36m<module>\u001b[0;34m\u001b[0m\n\u001b[0;32m----> 1\u001b[0;31m \u001b[0mtimesData\u001b[0m \u001b[0;34m=\u001b[0m \u001b[0mpd\u001b[0m\u001b[0;34m.\u001b[0m\u001b[0mread_csv\u001b[0m\u001b[0;34m(\u001b[0m\u001b[0;34m'/Users/juliensisavath2017/THP_loc/THP-2/S04/2/Project/2.Tour_de_France_des_universites/archive/timesData.csv'\u001b[0m\u001b[0;34m,\u001b[0m \u001b[0msep\u001b[0m \u001b[0;34m=\u001b[0m \u001b[0;34m\";\"\u001b[0m\u001b[0;34m,\u001b[0m \u001b[0mencoding\u001b[0m \u001b[0;34m=\u001b[0m \u001b[0;34m'latin-1'\u001b[0m\u001b[0;34m)\u001b[0m\u001b[0;34m\u001b[0m\u001b[0;34m\u001b[0m\u001b[0m\n\u001b[0m",
      "\u001b[0;31mNameError\u001b[0m: name 'pd' is not defined"
     ]
    }
   ],
   "source": [
    " timesData = pd.read_csv('/Users/juliensisavath2017/THP_loc/THP-2/S04/2/Project/2.Tour_de_France_des_universites/archive/timesData.csv', sep = \";\", encoding = 'latin-1')\n"
   ]
  },
  {
   "cell_type": "code",
   "execution_count": null,
   "id": "5709547b",
   "metadata": {},
   "outputs": [],
   "source": [
    "# 2.2. Répondre aux questions posées par ton manager"
   ]
  },
  {
   "cell_type": "code",
   "execution_count": null,
   "id": "ad113a92",
   "metadata": {},
   "outputs": [],
   "source": [
    "## Donne un aperçu de chaque fichier csv et décris en une phrase son contenu."
   ]
  },
  {
   "cell_type": "code",
   "execution_count": null,
   "id": "17786e00",
   "metadata": {},
   "outputs": [],
   "source": []
  },
  {
   "cell_type": "code",
   "execution_count": null,
   "id": "67ac9927",
   "metadata": {},
   "outputs": [],
   "source": [
    "## Quelles années sont prises en charge par chaque classement ?"
   ]
  },
  {
   "cell_type": "code",
   "execution_count": null,
   "id": "7ae9d088",
   "metadata": {},
   "outputs": [],
   "source": []
  },
  {
   "cell_type": "code",
   "execution_count": null,
   "id": "a048e341",
   "metadata": {},
   "outputs": [],
   "source": [
    "## Combien d'universités sont prises en compte annuellement par chaque classement en moyenne ? Il s'agit ici de donner le nombre moyen d'universités prises en compte par chaque classement lors d'une année.\n"
   ]
  },
  {
   "cell_type": "code",
   "execution_count": null,
   "id": "5a636b30",
   "metadata": {},
   "outputs": [],
   "source": []
  },
  {
   "cell_type": "code",
   "execution_count": null,
   "id": "71f83b61",
   "metadata": {},
   "outputs": [],
   "source": [
    "## Quels sont les rankings obtenus par l'Université de Strabourg dans chacun des 3 classements disponibles ?"
   ]
  },
  {
   "cell_type": "code",
   "execution_count": null,
   "id": "143c68c2",
   "metadata": {},
   "outputs": [],
   "source": []
  },
  {
   "cell_type": "code",
   "execution_count": null,
   "id": "3cb4928e",
   "metadata": {},
   "outputs": [],
   "source": [
    "## Selon le classement du Times, quels sont les 20 meilleures universités en 2016 ? Quelle est la part d'universités américaines ?\n"
   ]
  },
  {
   "cell_type": "code",
   "execution_count": null,
   "id": "c8d878d7",
   "metadata": {},
   "outputs": [],
   "source": []
  },
  {
   "cell_type": "code",
   "execution_count": null,
   "id": "33b9914a",
   "metadata": {},
   "outputs": [],
   "source": [
    "## Combien chaque pays possède d'universités dans le classement de Shanghai en 2015 ? Range la liste par ordre décroissant. Pense à t'aider de la table université - pays pour réaliser cette requête.\n"
   ]
  },
  {
   "cell_type": "code",
   "execution_count": null,
   "id": "c90b9c3c",
   "metadata": {},
   "outputs": [],
   "source": []
  },
  {
   "cell_type": "code",
   "execution_count": null,
   "id": "d33db8ad",
   "metadata": {},
   "outputs": [],
   "source": [
    "## Quelles sont les universités françaises présentes dans le classement du Center for WUR ?"
   ]
  },
  {
   "cell_type": "code",
   "execution_count": null,
   "id": "917f938c",
   "metadata": {},
   "outputs": [],
   "source": []
  },
  {
   "cell_type": "code",
   "execution_count": null,
   "id": "fcb547bb",
   "metadata": {},
   "outputs": [],
   "source": [
    "## Quels pays ont les plus faibles ratios (Dépenses dans les Institutions du Supérieur (Privées et Publiques) en 2011) / Nombre d'universités dans le classement du Times en 2011 ? Range cette liste par ordre croissant.\n"
   ]
  },
  {
   "cell_type": "code",
   "execution_count": null,
   "id": "15ae955a",
   "metadata": {},
   "outputs": [],
   "source": []
  },
  {
   "cell_type": "code",
   "execution_count": null,
   "id": "7f85bfc3",
   "metadata": {},
   "outputs": [],
   "source": [
    "# 2.3. Trouver des informations intéressantes"
   ]
  },
  {
   "cell_type": "code",
   "execution_count": null,
   "id": "d7490e4d",
   "metadata": {},
   "outputs": [],
   "source": [
    "## Recherche n°1 : Les 20 meilleures universités au classement du Times ont un taux de parité relativement peu élevé (30% vs 45% en moyenne)\n"
   ]
  },
  {
   "cell_type": "code",
   "execution_count": null,
   "id": "fc77e6f6",
   "metadata": {},
   "outputs": [],
   "source": [
    "## Recherche n°2 : L'université de Strasbourg fait partie du 10% des universités présentes dans le classement qui ont le moins d'étudiants internationaux\n"
   ]
  },
  {
   "cell_type": "code",
   "execution_count": null,
   "id": "7dee2e4c",
   "metadata": {},
   "outputs": [],
   "source": [
    "## Recherche n°3 :"
   ]
  },
  {
   "cell_type": "code",
   "execution_count": null,
   "id": "386448e1",
   "metadata": {},
   "outputs": [],
   "source": [
    "## Recherche n°4 :"
   ]
  },
  {
   "cell_type": "code",
   "execution_count": null,
   "id": "fa714ff8",
   "metadata": {},
   "outputs": [],
   "source": [
    "## Recherche n°5 :"
   ]
  },
  {
   "cell_type": "code",
   "execution_count": null,
   "id": "9a3a8b32",
   "metadata": {},
   "outputs": [],
   "source": [
    "## Recherche n°6 :"
   ]
  }
 ],
 "metadata": {
  "kernelspec": {
   "display_name": "Python 3",
   "language": "python",
   "name": "python3"
  },
  "language_info": {
   "codemirror_mode": {
    "name": "ipython",
    "version": 3
   },
   "file_extension": ".py",
   "mimetype": "text/x-python",
   "name": "python",
   "nbconvert_exporter": "python",
   "pygments_lexer": "ipython3",
   "version": "3.8.8"
  }
 },
 "nbformat": 4,
 "nbformat_minor": 5
}
